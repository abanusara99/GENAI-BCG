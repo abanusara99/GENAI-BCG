{
 "cells": [
  {
   "cell_type": "code",
   "execution_count": 4,
   "metadata": {},
   "outputs": [],
   "source": [
    "import pandas as pd\n",
    "\n",
    "# Load the data from the Excel spreadsheet\n",
    "file_path = 'Default.csv'\n",
    "df = pd.read_csv(file_path)"
   ]
  },
  {
   "cell_type": "code",
   "execution_count": 5,
   "metadata": {},
   "outputs": [
    {
     "data": {
      "text/html": [
       "<div>\n",
       "<style scoped>\n",
       "    .dataframe tbody tr th:only-of-type {\n",
       "        vertical-align: middle;\n",
       "    }\n",
       "\n",
       "    .dataframe tbody tr th {\n",
       "        vertical-align: top;\n",
       "    }\n",
       "\n",
       "    .dataframe thead th {\n",
       "        text-align: right;\n",
       "    }\n",
       "</style>\n",
       "<table border=\"1\" class=\"dataframe\">\n",
       "  <thead>\n",
       "    <tr style=\"text-align: right;\">\n",
       "      <th></th>\n",
       "      <th>Unnamed: 0</th>\n",
       "      <th>default</th>\n",
       "      <th>student</th>\n",
       "      <th>balance</th>\n",
       "      <th>income</th>\n",
       "    </tr>\n",
       "  </thead>\n",
       "  <tbody>\n",
       "    <tr>\n",
       "      <th>0</th>\n",
       "      <td>1</td>\n",
       "      <td>No</td>\n",
       "      <td>No</td>\n",
       "      <td>729.526495</td>\n",
       "      <td>44361.62507</td>\n",
       "    </tr>\n",
       "    <tr>\n",
       "      <th>1</th>\n",
       "      <td>2</td>\n",
       "      <td>No</td>\n",
       "      <td>Yes</td>\n",
       "      <td>817.180407</td>\n",
       "      <td>12106.13470</td>\n",
       "    </tr>\n",
       "    <tr>\n",
       "      <th>2</th>\n",
       "      <td>3</td>\n",
       "      <td>No</td>\n",
       "      <td>No</td>\n",
       "      <td>1073.549164</td>\n",
       "      <td>31767.13895</td>\n",
       "    </tr>\n",
       "    <tr>\n",
       "      <th>3</th>\n",
       "      <td>4</td>\n",
       "      <td>No</td>\n",
       "      <td>No</td>\n",
       "      <td>529.250605</td>\n",
       "      <td>35704.49394</td>\n",
       "    </tr>\n",
       "    <tr>\n",
       "      <th>4</th>\n",
       "      <td>5</td>\n",
       "      <td>No</td>\n",
       "      <td>No</td>\n",
       "      <td>785.655883</td>\n",
       "      <td>38463.49588</td>\n",
       "    </tr>\n",
       "  </tbody>\n",
       "</table>\n",
       "</div>"
      ],
      "text/plain": [
       "   Unnamed: 0 default student      balance       income\n",
       "0           1      No      No   729.526495  44361.62507\n",
       "1           2      No     Yes   817.180407  12106.13470\n",
       "2           3      No      No  1073.549164  31767.13895\n",
       "3           4      No      No   529.250605  35704.49394\n",
       "4           5      No      No   785.655883  38463.49588"
      ]
     },
     "execution_count": 5,
     "metadata": {},
     "output_type": "execute_result"
    }
   ],
   "source": [
    "df.head()"
   ]
  },
  {
   "cell_type": "code",
   "execution_count": 10,
   "metadata": {},
   "outputs": [],
   "source": [
    "# Calculate year-over-year growth rates for Total Revenue and Net Income\n",
    "df['Revenue Growth (%)'] = df.groupby('student')['balance'].pct_change() * 100\n",
    "df['Net Income Growth (%)'] = df.groupby('student')['income'].pct_change() * 100\n"
   ]
  },
  {
   "cell_type": "code",
   "execution_count": 11,
   "metadata": {},
   "outputs": [
    {
     "name": "stdout",
     "output_type": "stream",
     "text": [
      "      Unnamed: 0 default student      balance       income  \\\n",
      "0              1      No      No   729.526495  44361.62507   \n",
      "1              2      No     Yes   817.180407  12106.13470   \n",
      "2              3      No      No  1073.549164  31767.13895   \n",
      "3              4      No      No   529.250605  35704.49394   \n",
      "4              5      No      No   785.655883  38463.49588   \n",
      "...          ...     ...     ...          ...          ...   \n",
      "9995        9996      No      No   711.555020  52992.37891   \n",
      "9996        9997      No      No   757.962918  19660.72177   \n",
      "9997        9998      No      No   845.411989  58636.15698   \n",
      "9998        9999      No      No  1569.009053  36669.11236   \n",
      "9999       10000      No     Yes   200.922183  16862.95232   \n",
      "\n",
      "      Revenue Growth (%)  Net Income Growth (%)  \n",
      "0               0.000000               0.000000  \n",
      "1               0.000000               0.000000  \n",
      "2              47.156981             -28.390498  \n",
      "3             -50.700851              12.394427  \n",
      "4              48.446856               7.727324  \n",
      "...                  ...                    ...  \n",
      "9995          -24.208825              -6.429186  \n",
      "9996            6.522039             -62.898964  \n",
      "9997           11.537381             198.240104  \n",
      "9998           85.591058             -37.463309  \n",
      "9999           16.535410              12.750856  \n",
      "\n",
      "[10000 rows x 7 columns]\n"
     ]
    }
   ],
   "source": [
    "# Fill NA values that result from pct_change calculations with 0 or an appropriate value\n",
    "df.fillna(0, inplace=True)\n",
    "\n",
    "# Display the dataframe to verify the calculations\n",
    "print(df)"
   ]
  },
  {
   "cell_type": "code",
   "execution_count": 13,
   "metadata": {},
   "outputs": [
    {
     "name": "stdout",
     "output_type": "stream",
     "text": [
      "\n",
      "Year-over-Year Average Growth Rates (%):\n",
      "  student  Revenue Growth (%)  Net Income Growth (%)\n",
      "0      No                 inf               7.823213\n",
      "1     Yes                 inf               8.951127\n"
     ]
    }
   ],
   "source": [
    "# Optionally, you could summarize these findings for each company\n",
    "summary = df.groupby('student').agg({\n",
    "    'Revenue Growth (%)': 'mean',\n",
    "    'Net Income Growth (%)': 'mean'\n",
    "}).reset_index()\n",
    "\n",
    "print(\"\\nYear-over-Year Average Growth Rates (%):\")\n",
    "print(summary)"
   ]
  },
  {
   "cell_type": "code",
   "execution_count": 4,
   "metadata": {},
   "outputs": [],
   "source": [
    "def simple_chatbot(user_query):\n",
    "    if user_query == \"What is the total revenue?\":\n",
    "        return \"The total revenue is [amount].\"\n",
    "    elif user_query == \"How has net income changed over the last year?\":\n",
    "        return \"The net income has [increased/decreased] by [amount] over the last year.\"\n",
    "    else:\n",
    "        return \"Sorry, I can only provide information on predefined queries.\""
   ]
  },
  {
   "cell_type": "code",
   "execution_count": 5,
   "metadata": {},
   "outputs": [],
   "source": [
    "def financial_chatbot(query):\n",
    "    responses = {\n",
    "        \"net income\": \"The net income for the fiscal year 2021 was $5 billion, a 10% increase from 2020.\",\n",
    "        \"revenue growth\": \"The revenue grew by 8% from 2020 to 2021, reaching $22 billion.\"\n",
    "    }\n",
    "    return responses.get(query.lower(), \"I'm not sure how to answer that. Can you try a different question?\")"
   ]
  },
  {
   "cell_type": "code",
   "execution_count": 6,
   "metadata": {},
   "outputs": [
    {
     "name": "stdout",
     "output_type": "stream",
     "text": [
      "I'm not sure how to answer that. Can you try a different question?\n",
      "I'm not sure how to answer that. Can you try a different question?\n",
      "I'm not sure how to answer that. Can you try a different question?\n"
     ]
    }
   ],
   "source": [
    "print(financial_chatbot(\"What is the total revenue?\"))\n",
    "print(financial_chatbot(\"What's the net income?\"))\n",
    "print(financial_chatbot(\"Tell me about revenue growth.\"))"
   ]
  }
 ],
 "metadata": {
  "kernelspec": {
   "display_name": "ju",
   "language": "python",
   "name": "python3"
  },
  "language_info": {
   "codemirror_mode": {
    "name": "ipython",
    "version": 3
   },
   "file_extension": ".py",
   "mimetype": "text/x-python",
   "name": "python",
   "nbconvert_exporter": "python",
   "pygments_lexer": "ipython3",
   "version": "3.11.9"
  },
  "orig_nbformat": 4,
  "vscode": {
   "interpreter": {
    "hash": "3c6b3f35df3d48db05e94cb2bc0e32b2c432dbdd015d2b312c110beea29564df"
   }
  }
 },
 "nbformat": 4,
 "nbformat_minor": 2
}
